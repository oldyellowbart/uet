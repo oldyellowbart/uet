{
 "cells": [
  {
   "cell_type": "code",
   "execution_count": 3,
   "id": "8bd0deb8-9c8d-40b9-ba0e-77e33e0ffddf",
   "metadata": {},
   "outputs": [],
   "source": [
    "import cv2 as cv\n",
    "import mediapipe as mp\n",
    "mp_pose = mp.solutions.pose\n",
    "mp_drawing = mp.solutions.drawing_utils \n",
    "mp_drawing_styles = mp.solutions.drawing_styles"
   ]
  },
  {
   "cell_type": "code",
   "execution_count": 4,
   "id": "8ed2c507-961b-46b4-9d02-4c7da44679f6",
   "metadata": {},
   "outputs": [],
   "source": [
    "video = cv.VideoCapture(1)\n",
    "video.set(3,200)\n",
    "video.set(4,200)\n",
    "\n",
    "while(True):\n",
    "    ret, frame = video.read()\n",
    "    frame = cv.flip(frame, 1)\n",
    "    #pose = mp_pose.Pose()\n",
    "    # 'with' statement is used for file handling, it ensures that files are automatically closed after use, preventing resource leaks\n",
    "    with mp_pose.Pose(static_image_mode=True, min_detection_confidence=0.5, model_complexity=2) as pose:\n",
    "        results = pose.process(frame)\n",
    "        #results.pose_landmarks.landmark\n",
    "        mp_drawing.draw_landmarks(\n",
    "            frame,\n",
    "            results.pose_landmarks,\n",
    "            mp_pose.POSE_CONNECTIONS, \n",
    "            landmark_drawing_spec=mp_drawing_styles.get_default_pose_landmarks_style())\n",
    "\n",
    "    cv.imshow('Live video', frame)\n",
    "    \n",
    "    if cv.waitKey(1) & 0xFF == ord('q'):\n",
    "        break\n",
    "\n",
    "video.release()\n",
    "cv.destroyAllWindows()"
   ]
  }
 ],
 "metadata": {
  "kernelspec": {
   "display_name": "Python 3",
   "language": "python",
   "name": "python3"
  },
  "language_info": {
   "codemirror_mode": {
    "name": "ipython",
    "version": 3
   },
   "file_extension": ".py",
   "mimetype": "text/x-python",
   "name": "python",
   "nbconvert_exporter": "python",
   "pygments_lexer": "ipython3",
   "version": "3.8.0"
  }
 },
 "nbformat": 4,
 "nbformat_minor": 5
}
