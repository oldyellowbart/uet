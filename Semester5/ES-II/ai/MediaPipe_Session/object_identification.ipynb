{
 "cells": [
  {
   "cell_type": "code",
   "execution_count": 1,
   "id": "bc54a398-e85d-4970-8205-8a9c021bde96",
   "metadata": {},
   "outputs": [],
   "source": [
    "from matplotlib import pyplot as plt\n",
    "import mediapipe as mp\n",
    "from mediapipe.framework.formats import landmark_pb2\n",
    "import cv2 as cv"
   ]
  },
  {
   "cell_type": "code",
   "execution_count": 2,
   "id": "30900022-7f17-4baa-a4ca-3cac0a5c720f",
   "metadata": {},
   "outputs": [],
   "source": [
    "mp_objects = mp.solutions.objectron\n",
    "mp_drawing = mp.solutions.drawing_utils\n"
   ]
  },
  {
   "cell_type": "code",
   "execution_count": 3,
   "id": "6922aa19-b975-46a3-9162-a52c6fb7dbfa",
   "metadata": {},
   "outputs": [
    {
     "data": {
      "text/plain": [
       "True"
      ]
     },
     "execution_count": 3,
     "metadata": {},
     "output_type": "execute_result"
    }
   ],
   "source": [
    "video = cv.VideoCapture(0)\n",
    "video.set(3,600)\n",
    "video.set(4,600)\n"
   ]
  },
  {
   "cell_type": "code",
   "execution_count": 4,
   "id": "2574134b-b2c3-48fe-a147-12b98acc1830",
   "metadata": {},
   "outputs": [
    {
     "ename": "NameError",
     "evalue": "name 'python' is not defined",
     "output_type": "error",
     "traceback": [
      "\u001b[1;31m---------------------------------------------------------------------------\u001b[0m",
      "\u001b[1;31mNameError\u001b[0m                                 Traceback (most recent call last)",
      "Cell \u001b[1;32mIn[4], line 5\u001b[0m\n\u001b[0;32m      3\u001b[0m frame \u001b[38;5;241m=\u001b[39m cv\u001b[38;5;241m.\u001b[39mcvtColor(frame, cv\u001b[38;5;241m.\u001b[39mCOLOR_BGR2RGB)\n\u001b[0;32m      4\u001b[0m \u001b[38;5;66;03m# STEP 2: Create an ObjectDetector object.\u001b[39;00m\n\u001b[1;32m----> 5\u001b[0m base_options \u001b[38;5;241m=\u001b[39m \u001b[43mpython\u001b[49m\u001b[38;5;241m.\u001b[39mBaseOptions(model_asset_path\u001b[38;5;241m=\u001b[39m\u001b[38;5;124m'\u001b[39m\u001b[38;5;124mefficientdet.tflite\u001b[39m\u001b[38;5;124m'\u001b[39m)\n\u001b[0;32m      6\u001b[0m options \u001b[38;5;241m=\u001b[39m vision\u001b[38;5;241m.\u001b[39mObjectDetectorOptions(base_options\u001b[38;5;241m=\u001b[39mbase_options,score_threshold\u001b[38;5;241m=\u001b[39m\u001b[38;5;241m0.5\u001b[39m)\n\u001b[0;32m      7\u001b[0m detector \u001b[38;5;241m=\u001b[39m vision\u001b[38;5;241m.\u001b[39mObjectDetector\u001b[38;5;241m.\u001b[39mcreate_from_options(options)\n",
      "\u001b[1;31mNameError\u001b[0m: name 'python' is not defined"
     ]
    }
   ],
   "source": [
    "while(True):\n",
    "    ret, frame = video.read()\n",
    "    frame = cv.cvtColor(frame, cv.COLOR_BGR2RGB)\n",
    "    # STEP 2: Create an ObjectDetector object.\n",
    "    base_options = python.BaseOptions(model_asset_path='efficientdet.tflite')\n",
    "    options = vision.ObjectDetectorOptions(base_options=base_options,score_threshold=0.5)\n",
    "    detector = vision.ObjectDetector.create_from_options(options)\n",
    "    image = mp.Image.create_from_file(frame)\n",
    "    # STEP 4: Detect objects in the input image.\n",
    "    detection_result = detector.detect(frame)\n",
    "    frame = cv.cvtColor(frame, cv.COLOR_RGB2BGR)\n",
    "    image_copy = np.copy(image.numpy_view())\n",
    "    annotated_image = visualize(image_copy, detection_result)\n",
    "    rgb_annotated_image = cv2.cvtColor(annotated_image, cv2.COLOR_BGR2RGB)\n",
    "    cv2_imshow(rgb_annotated_image)\n",
    "    if cv.waitKey(1) & 0xFF == ord('q'):\n",
    "        break\n",
    "\n",
    "video.release()\n",
    "cv.destroyAllWindows()"
   ]
  },
  {
   "cell_type": "code",
   "execution_count": null,
   "id": "7ebff9a9-291b-45a7-a929-42dcfbd92219",
   "metadata": {},
   "outputs": [],
   "source": []
  }
 ],
 "metadata": {
  "kernelspec": {
   "display_name": "Python 3",
   "language": "python",
   "name": "python3"
  },
  "language_info": {
   "codemirror_mode": {
    "name": "ipython",
    "version": 3
   },
   "file_extension": ".py",
   "mimetype": "text/x-python",
   "name": "python",
   "nbconvert_exporter": "python",
   "pygments_lexer": "ipython3",
   "version": "3.8.0"
  }
 },
 "nbformat": 4,
 "nbformat_minor": 5
}
