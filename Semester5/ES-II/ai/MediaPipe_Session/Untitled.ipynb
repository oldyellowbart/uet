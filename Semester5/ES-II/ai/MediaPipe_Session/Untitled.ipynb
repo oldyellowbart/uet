{
 "cells": [
  {
   "cell_type": "code",
   "execution_count": null,
   "id": "56097c44-dce6-4922-b90f-0188c7b8eb59",
   "metadata": {},
   "outputs": [],
   "source": [
    "import cv2 as cv\n",
    "from ultralytics import YOLO\n",
    "video = cv.VideoCapture(0)\n",
    "video.set(3,1000)\n",
    "video.set(4,1000)\n",
    "model = YOLO('yolo11n.pt')\n",
    "\n",
    "while True:\n",
    "    results = model(source=0, show=True, conf=0.6, save=True)\n",
    "    \n",
    "    # Flip the image horizontally\n",
    "    for result in results:\n",
    "        result.imgs = [cv.flip(img, 1) for img in result.imgs]\n",
    "    \n",
    "    if cv.waitKey(1) & 0xFF == ord('q'):\n",
    "        break\n",
    "    video.release()\n",
    "    cv.destroyAllWindows()"
   ]
  },
  {
   "cell_type": "code",
   "execution_count": null,
   "id": "66f9fe3a-9f18-4e35-8337-f675339f2708",
   "metadata": {},
   "outputs": [],
   "source": []
  }
 ],
 "metadata": {
  "kernelspec": {
   "display_name": "Python 3",
   "language": "python",
   "name": "python3"
  },
  "language_info": {
   "codemirror_mode": {
    "name": "ipython",
    "version": 3
   },
   "file_extension": ".py",
   "mimetype": "text/x-python",
   "name": "python",
   "nbconvert_exporter": "python",
   "pygments_lexer": "ipython3",
   "version": "3.8.0"
  }
 },
 "nbformat": 4,
 "nbformat_minor": 5
}
