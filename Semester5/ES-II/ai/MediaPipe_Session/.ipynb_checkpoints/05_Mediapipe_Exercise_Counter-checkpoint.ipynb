{
 "cells": [
  {
   "cell_type": "code",
   "execution_count": 1,
   "id": "aa1b4b75-a757-4c65-9d2b-2e349af519d6",
   "metadata": {},
   "outputs": [],
   "source": [
    "import cv2 as cv\n",
    "import numpy as np \n",
    "import mediapipe as mp\n",
    "mp_pose = mp.solutions.pose\n",
    "mp_drawing = mp.solutions.drawing_utils \n",
    "mp_drawing_styles = mp.solutions.drawing_styles"
   ]
  },
  {
   "cell_type": "code",
   "execution_count": 2,
   "id": "62152a77-144f-4f7b-ab70-166a00e181c4",
   "metadata": {},
   "outputs": [],
   "source": [
    "def calculate_angle(start,middle,end):  \n",
    "    a = np.array(start) # First\n",
    "    b = np.array(middle) # Mid\n",
    "    c = np.array(end) # End\n",
    "    \n",
    "    radians = np.arctan2(c[1]-b[1], c[0]-b[0]) - np.arctan2(a[1]-b[1], a[0]-b[0])\n",
    "    angle = np.abs(radians*180.0/np.pi)\n",
    "    \n",
    "    if angle >180.0:\n",
    "        angle = 360-angle\n",
    "    \n",
    "    return angle"
   ]
  },
  {
   "cell_type": "code",
   "execution_count": 3,
   "id": "94ae4c5e-929a-4682-aba5-87fd64aa58ca",
   "metadata": {},
   "outputs": [
    {
     "name": "stderr",
     "output_type": "stream",
     "text": [
      "C:\\Python311\\Lib\\site-packages\\google\\protobuf\\symbol_database.py:55: UserWarning: SymbolDatabase.GetPrototype() is deprecated. Please use message_factory.GetMessageClass() instead. SymbolDatabase.GetPrototype() will be removed soon.\n",
      "  warnings.warn('SymbolDatabase.GetPrototype() is deprecated. Please '\n"
     ]
    },
    {
     "name": "stdout",
     "output_type": "stream",
     "text": [
      "1\n",
      "2\n",
      "3\n",
      "4\n",
      "5\n",
      "6\n",
      "7\n",
      "8\n",
      "9\n",
      "10\n",
      "11\n"
     ]
    }
   ],
   "source": [
    "video = cv.VideoCapture(0)\n",
    "counter = 0\n",
    "stage = 'initial'\n",
    "\n",
    "while(True):\n",
    "    #inside while loop\n",
    "    _,frame = video.read()\n",
    "    frame = cv.resize(frame, (500,500), interpolation= cv.INTER_LINEAR)\n",
    "    \n",
    "    #pose detection logic\n",
    "    with mp_pose.Pose(\n",
    "        static_image_mode=True, min_detection_confidence=0.5, model_complexity=2) as pose:\n",
    "        results = pose.process(frame)\n",
    "        mp_drawing.draw_landmarks(\n",
    "            frame,\n",
    "            results.pose_landmarks,\n",
    "            mp_pose.POSE_CONNECTIONS,\n",
    "            landmark_drawing_spec=mp_drawing_styles.get_default_pose_landmarks_style())\n",
    "        start,mid,end = [],[],[]\n",
    "        try:\n",
    "            for i , item  in enumerate(results.pose_landmarks.landmark):    \n",
    "                global counter\n",
    "                global stage\n",
    "                x =  500*item.x\n",
    "                y =  500*item.y\n",
    "                \n",
    "                if (i == 12):\n",
    "                    start.append(item.x)\n",
    "                    start.append(item.y)\n",
    "                    cv.putText(frame, str(i), (int(x),int(y)), cv.FONT_HERSHEY_SIMPLEX, 1, (0, 255, 0), 1, cv.LINE_AA)\n",
    "\n",
    "                elif(i== 14):\n",
    "                    mid.append(item.x)\n",
    "                    mid.append(item.y)                    \n",
    "                    cv.putText(frame, str(i), (int(x),int(y)), cv.FONT_HERSHEY_SIMPLEX, 1, (0, 255, 0), 1, cv.LINE_AA)\n",
    "\n",
    "                elif(i == 16):                    \n",
    "                    end.append(item.x)\n",
    "                    end.append(item.y)\n",
    "                    cv.putText(frame, str(i), (int(x),int(y)), cv.FONT_HERSHEY_SIMPLEX, 1, (0, 255, 0), 1, cv.LINE_AA)\n",
    "                \n",
    "                    angle = calculate_angle(start,mid,end)\n",
    "                    #print(angle)\n",
    "                    cv.putText(frame, \"Angle = \"+str(round(angle)), (50,80), cv.FONT_HERSHEY_SIMPLEX, 1, (0, 255, 0), 1, cv.LINE_AA)\n",
    "                    cv.putText(frame, \"Count = \"+str(counter), (50,50), cv.FONT_HERSHEY_SIMPLEX, 1, (255, 255, 0), 1, cv.LINE_AA)\n",
    "\n",
    "                    if(angle > 150 ):\n",
    "                        stage = 'down'\n",
    "                    if angle < 45 and stage == 'down':\n",
    "                        counter = counter + 1\n",
    "                        stage = 'up'\n",
    "                        print(counter)\n",
    "        except:\n",
    "            pass\n",
    "\n",
    "    cv.imshow('frame',frame)\n",
    "    if cv.waitKey(1) & 0xFF == ord('q'):\n",
    "        break\n",
    "    \n",
    "video.release()\n",
    "cv.destroyAllWindows()"
   ]
  },
  {
   "cell_type": "code",
   "execution_count": null,
   "id": "30a340f8-d250-4fee-81a8-a6550c046881",
   "metadata": {},
   "outputs": [],
   "source": []
  }
 ],
 "metadata": {
  "kernelspec": {
   "display_name": "Python 3 (ipykernel)",
   "language": "python",
   "name": "python3"
  },
  "language_info": {
   "codemirror_mode": {
    "name": "ipython",
    "version": 3
   },
   "file_extension": ".py",
   "mimetype": "text/x-python",
   "name": "python",
   "nbconvert_exporter": "python",
   "pygments_lexer": "ipython3",
   "version": "3.11.7"
  }
 },
 "nbformat": 4,
 "nbformat_minor": 5
}
