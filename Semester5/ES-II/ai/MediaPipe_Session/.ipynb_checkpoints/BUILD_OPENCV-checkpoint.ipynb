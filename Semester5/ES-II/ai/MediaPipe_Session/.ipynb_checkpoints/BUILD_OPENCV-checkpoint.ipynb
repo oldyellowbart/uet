{
 "cells": [
  {
   "cell_type": "code",
   "execution_count": null,
   "id": "357b2943-af37-4bd8-9466-233902d6fe3b",
   "metadata": {},
   "outputs": [],
   "source": [
    "import cv2 as cv\n",
    "print(cv.getBuildInformation())  # Look for \"CUDA\" and \"cuDNN\" in the output"
   ]
  }
 ],
 "metadata": {
  "kernelspec": {
   "display_name": "Python 3 (ipykernel)",
   "language": "python",
   "name": "python3"
  },
  "language_info": {
   "codemirror_mode": {
    "name": "ipython",
    "version": 3
   },
   "file_extension": ".py",
   "mimetype": "text/x-python",
   "name": "python",
   "nbconvert_exporter": "python",
   "pygments_lexer": "ipython3",
   "version": "3.8.0"
  }
 },
 "nbformat": 4,
 "nbformat_minor": 5
}
