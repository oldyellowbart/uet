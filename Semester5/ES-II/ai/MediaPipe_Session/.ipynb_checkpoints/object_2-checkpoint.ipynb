{
 "cells": [
  {
   "cell_type": "code",
   "execution_count": 6,
   "id": "b2b1512b-e22d-49d6-9bda-7ac9f8f4b811",
   "metadata": {},
   "outputs": [],
   "source": [
    "import cv2 as cv\n",
    "import mediapipe as mp\n",
    "\n",
    "# Initialize MediaPipe Objectron and Drawing modules\n",
    "mp_objectron = mp.solutions.objectron\n",
    "mp_drawing = mp.solutions.drawing_utils\n",
    "\n",
    "# Initialize the video capture\n",
    "video = cv.VideoCapture(0)\n",
    "video.set(3, 2736)  # Set width\n",
    "video.set(4, 1824)  # Set height\n",
    "\n",
    "# Initialize Objectron outside the loop\n",
    "with mp_objectron.Objectron(static_image_mode=False, max_num_objects=5, min_detection_confidence=0.2, model_name='Cup') as objectron:\n",
    "    while True:\n",
    "        ret, frame = video.read()\n",
    "        if not ret:\n",
    "            break\n",
    "\n",
    "        # Flip the frame horizontally\n",
    "        frame = cv.flip(frame, 1)\n",
    "\n",
    "        # Convert the frame to RGB\n",
    "        frame_rgb = cv.cvtColor(frame, cv.COLOR_BGR2RGB)\n",
    "\n",
    "        # Process the frame with MediaPipe Objectron\n",
    "        results = objectron.process(frame_rgb)\n",
    "\n",
    "        # Draw object landmarks if detected\n",
    "        if results.detected_objects:\n",
    "            for detected_object in results.detected_objects:\n",
    "                mp_drawing.draw_landmarks(\n",
    "                    frame, detected_object.landmarks_2d, mp_objectron.BOX_CONNECTIONS)\n",
    "                mp_drawing.draw_axis(\n",
    "                    frame, detected_object.rotation, detected_object.translation)\n",
    "\n",
    "        # Display the frame\n",
    "        cv.imshow('Object Detection', frame)\n",
    "\n",
    "        # Break the loop on 'q' key press\n",
    "        if cv.waitKey(1) & 0xFF == ord('q'):\n",
    "            break\n",
    "\n",
    "# Release the video capture object and close all OpenCV windows\n",
    "video.release()\n",
    "cv.destroyAllWindows()"
   ]
  },
  {
   "cell_type": "code",
   "execution_count": null,
   "id": "45513aba-9098-420d-b843-c5e31f323a2a",
   "metadata": {},
   "outputs": [],
   "source": []
  }
 ],
 "metadata": {
  "kernelspec": {
   "display_name": "Python 3 (ipykernel)",
   "language": "python",
   "name": "python3"
  },
  "language_info": {
   "codemirror_mode": {
    "name": "ipython",
    "version": 3
   },
   "file_extension": ".py",
   "mimetype": "text/x-python",
   "name": "python",
   "nbconvert_exporter": "python",
   "pygments_lexer": "ipython3",
   "version": "3.12.7"
  }
 },
 "nbformat": 4,
 "nbformat_minor": 5
}
