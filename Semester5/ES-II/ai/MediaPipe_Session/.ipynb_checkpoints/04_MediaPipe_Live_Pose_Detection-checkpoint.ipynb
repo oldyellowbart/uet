{
 "cells": [
  {
   "cell_type": "code",
   "execution_count": 2,
   "id": "8bd0deb8-9c8d-40b9-ba0e-77e33e0ffddf",
   "metadata": {},
   "outputs": [],
   "source": [
    "import cv2 as cv\n",
    "import mediapipe as mp\n",
    "mp_pose = mp.solutions.pose\n",
    "mp_drawing = mp.solutions.drawing_utils \n",
    "mp_drawing_styles = mp.solutions.drawing_styles"
   ]
  },
  {
   "cell_type": "code",
   "execution_count": 5,
   "id": "8ed2c507-961b-46b4-9d02-4c7da44679f6",
   "metadata": {},
   "outputs": [],
   "source": [
    "video = cv.VideoCapture(0)\n",
    "video.set(3,1000)\n",
    "video.set(4,1000)\n",
    "\n",
    "while(True):\n",
    "    ret, frame = video.read()\n",
    "    frame = cv.flip(frame, 1)\n",
    "    #pose = mp_pose.Pose()\n",
    "    # 'with' statement is used for file handling, it ensures that files are automatically closed after use, preventing resource leaks\n",
    "    with mp_pose.Pose(static_image_mode=True, min_detection_confidence=0.5, model_complexity=2) as pose:\n",
    "        results = pose.process(frame)\n",
    "        #results.pose_landmarks.landmark\n",
    "        mp_drawing.draw_landmarks(\n",
    "            frame,\n",
    "            results.pose_landmarks,\n",
    "            mp_pose.POSE_CONNECTIONS, \n",
    "            landmark_drawing_spec=mp_drawing_styles.get_default_pose_landmarks_style())\n",
    "\n",
    "    cv.imshow('Live video', frame)\n",
    "    \n",
    "    if cv.waitKey(1) & 0xFF == ord('q'):\n",
    "        break\n",
    "\n",
    "video.release()\n",
    "cv.destroyAllWindows()"
   ]
  },
  {
   "cell_type": "code",
   "execution_count": null,
   "id": "d15abec3-e4c4-4c2e-a795-4492dcbdc50e",
   "metadata": {},
   "outputs": [],
   "source": []
  },
  {
   "cell_type": "code",
   "execution_count": null,
   "id": "7e9dfb88-f596-4498-ac84-d956eb7cd3da",
   "metadata": {},
   "outputs": [],
   "source": []
  }
 ],
 "metadata": {
  "kernelspec": {
   "display_name": "Python 3 (ipykernel)",
   "language": "python",
   "name": "python3"
  },
  "language_info": {
   "codemirror_mode": {
    "name": "ipython",
    "version": 3
   },
   "file_extension": ".py",
   "mimetype": "text/x-python",
   "name": "python",
   "nbconvert_exporter": "python",
   "pygments_lexer": "ipython3",
   "version": "3.12.7"
  }
 },
 "nbformat": 4,
 "nbformat_minor": 5
}
