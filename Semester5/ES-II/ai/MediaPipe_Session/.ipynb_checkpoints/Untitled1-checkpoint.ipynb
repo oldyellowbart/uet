{
 "cells": [
  {
   "cell_type": "code",
   "execution_count": null,
   "id": "72a3ee66-4b9e-477c-bca0-8df735e22088",
   "metadata": {},
   "outputs": [],
   "source": [
    "import cv2 as cv\n",
    "from ultralytics import YOLO\n",
    "\n",
    "model = YOLO('yolo11n.pt')\n",
    "\n",
    "while True:\n",
    "    # Capture frame-by-frame\n",
    "    results = model(source=0, show=False, conf=0.6, save=False)\n",
    "    \n",
    "    # Check if results are available\n",
    "    if results:\n",
    "        # Flip the image horizontally\n",
    "        for result in results:\n",
    "            result.imgs = [cv.flip(img, 1) for img in result.imgs]\n",
    "            \n",
    "            # Display the flipped image\n",
    "            for img in result.imgs:\n",
    "                cv.imshow('Flipped Frame', img)\n",
    "    \n",
    "    # Break the loop on 'q' key press\n",
    "    if cv.waitKey(1) & 0xFF == ord('q'):\n",
    "        break\n",
    "\n",
    "# Release the capture and close windows\n",
    "cv.destroyAllWindows()"
   ]
  }
 ],
 "metadata": {
  "kernelspec": {
   "display_name": "Python 3 (ipykernel)",
   "language": "python",
   "name": "python3"
  },
  "language_info": {
   "codemirror_mode": {
    "name": "ipython",
    "version": 3
   },
   "file_extension": ".py",
   "mimetype": "text/x-python",
   "name": "python",
   "nbconvert_exporter": "python",
   "pygments_lexer": "ipython3",
   "version": "3.12.7"
  }
 },
 "nbformat": 4,
 "nbformat_minor": 5
}
